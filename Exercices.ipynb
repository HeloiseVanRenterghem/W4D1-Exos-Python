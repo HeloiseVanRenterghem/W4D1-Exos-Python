{
 "cells": [
  {
   "cell_type": "markdown",
   "id": "79c25d9a",
   "metadata": {},
   "source": [
    "## Manipulation de chaînes de caractères"
   ]
  },
  {
   "cell_type": "code",
   "execution_count": 1,
   "id": "d4f30d11",
   "metadata": {},
   "outputs": [
    {
     "data": {
      "text/plain": [
       "'hello world !'"
      ]
     },
     "execution_count": 1,
     "metadata": {},
     "output_type": "execute_result"
    }
   ],
   "source": [
    "bonjour = \"hello world !\"\n",
    "bonjour"
   ]
  },
  {
   "cell_type": "code",
   "execution_count": 2,
   "id": "f814d548",
   "metadata": {},
   "outputs": [
    {
     "data": {
      "text/plain": [
       "'h'"
      ]
     },
     "execution_count": 2,
     "metadata": {},
     "output_type": "execute_result"
    }
   ],
   "source": [
    "bonjour[0]"
   ]
  },
  {
   "cell_type": "code",
   "execution_count": 3,
   "id": "53c84389",
   "metadata": {},
   "outputs": [
    {
     "data": {
      "text/plain": [
       "'!'"
      ]
     },
     "execution_count": 3,
     "metadata": {},
     "output_type": "execute_result"
    }
   ],
   "source": [
    "bonjour[-1]"
   ]
  },
  {
   "cell_type": "code",
   "execution_count": 4,
   "id": "314fba61",
   "metadata": {},
   "outputs": [
    {
     "data": {
      "text/plain": [
       "'hel'"
      ]
     },
     "execution_count": 4,
     "metadata": {},
     "output_type": "execute_result"
    }
   ],
   "source": [
    "bonjour[:3]"
   ]
  },
  {
   "cell_type": "code",
   "execution_count": 5,
   "id": "ff730c53",
   "metadata": {},
   "outputs": [
    {
     "data": {
      "text/plain": [
       "'llo world !'"
      ]
     },
     "execution_count": 5,
     "metadata": {},
     "output_type": "execute_result"
    }
   ],
   "source": [
    "bonjour[2:]"
   ]
  },
  {
   "cell_type": "code",
   "execution_count": 6,
   "id": "9b19b600",
   "metadata": {},
   "outputs": [
    {
     "data": {
      "text/plain": [
       "True"
      ]
     },
     "execution_count": 6,
     "metadata": {},
     "output_type": "execute_result"
    }
   ],
   "source": [
    "bonjour[:3] == \"hel\""
   ]
  },
  {
   "cell_type": "markdown",
   "id": "9d4f259d",
   "metadata": {},
   "source": [
    "## Manipulation de fonctions"
   ]
  },
  {
   "cell_type": "code",
   "execution_count": 7,
   "id": "1fab9cf6",
   "metadata": {},
   "outputs": [
    {
     "name": "stdout",
     "output_type": "stream",
     "text": [
      "Hello Joséphine\n"
     ]
    }
   ],
   "source": [
    "first_name = \"Joséphine\"\n",
    "name = print(\"Hello\", first_name)\n",
    "name"
   ]
  },
  {
   "cell_type": "code",
   "execution_count": 8,
   "id": "6a606577",
   "metadata": {},
   "outputs": [
    {
     "name": "stdout",
     "output_type": "stream",
     "text": [
      "Quel est ton prénom ? Elsa\n",
      "Hello Elsa\n"
     ]
    }
   ],
   "source": [
    "first_name_input = input(\"Quel est ton prénom ? \")\n",
    "name_bis = print(\"Hello\", first_name_input)\n",
    "name_bis"
   ]
  },
  {
   "cell_type": "markdown",
   "id": "6d51d205",
   "metadata": {},
   "source": [
    "## Manipulation des conditions"
   ]
  },
  {
   "cell_type": "code",
   "execution_count": 9,
   "id": "f37f537f",
   "metadata": {},
   "outputs": [
    {
     "name": "stdout",
     "output_type": "stream",
     "text": [
      "Quel est ton âge ? 34\n",
      "Vous êtes majeur !\n"
     ]
    }
   ],
   "source": [
    "age = input(\"Quel est ton âge ? \")\n",
    "if age.isnumeric():\n",
    "    age = int(age)\n",
    "    if age >= 18:\n",
    "        print(\"Vous êtes majeur !\")\n",
    "    else:\n",
    "        print(\"Vous êtes mineur !\")\n",
    "else:\n",
    "    print(\"Veuillez entrer un nombre.\")"
   ]
  },
  {
   "cell_type": "code",
   "execution_count": 10,
   "id": "b68973ef",
   "metadata": {},
   "outputs": [
    {
     "name": "stdout",
     "output_type": "stream",
     "text": [
      "Veuillez saisir un nombre entier. 13\n",
      "Ce nombre est impair.\n"
     ]
    }
   ],
   "source": [
    "number = input(\"Veuillez saisir un nombre entier. \")\n",
    "if number.lstrip(\"-\").replace('.', '').isnumeric():\n",
    "    if float(number).is_integer():\n",
    "        if int(number) % 2 == 0:\n",
    "            print(\"Ce nombre est pair.\")\n",
    "        else:\n",
    "            print(\"Ce nombre est impair.\")\n",
    "    else:\n",
    "        print(\"Veuillez entrer un nombre entier.\")\n",
    "else:\n",
    "    print(\"Veuillez entrer un nombre.\")"
   ]
  },
  {
   "cell_type": "markdown",
   "id": "d1e91dba",
   "metadata": {},
   "source": [
    "## Multiples de 3 et 5"
   ]
  },
  {
   "cell_type": "code",
   "execution_count": 11,
   "id": "67ef65cf",
   "metadata": {},
   "outputs": [
    {
     "name": "stdout",
     "output_type": "stream",
     "text": [
      "Veuillez entrer un nombre entier naturel pour lequel on additionnera les multiples de 3 ou 5 qui y sont strictement inférieurs : 13\n",
      "45\n"
     ]
    }
   ],
   "source": [
    "nbMax = input(\"Veuillez entrer un nombre entier naturel pour lequel on additionnera les multiples de 3 ou 5 qui y sont strictement inférieurs : \")\n",
    "if nbMax.isnumeric():\n",
    "    nbMaxInt = int(nbMax)\n",
    "    sum = 0\n",
    "    for i in range(nbMaxInt):\n",
    "        if (i % 3 != 0) and (i % 5 != 0):\n",
    "            continue\n",
    "        else:\n",
    "            sum += i\n",
    "    print(sum)\n",
    "else:\n",
    "    print(\"Ce n'est pas un nombre entier naturel.\")"
   ]
  },
  {
   "cell_type": "markdown",
   "id": "e40c8f0b",
   "metadata": {},
   "source": [
    "## Cryptofolies"
   ]
  },
  {
   "cell_type": "code",
   "execution_count": 12,
   "id": "0e490b8a",
   "metadata": {},
   "outputs": [
    {
     "name": "stdout",
     "output_type": "stream",
     "text": [
      "Khoor, Jrrgebh !\n"
     ]
    }
   ],
   "source": [
    "def caesar_cipher(string, x):\n",
    "    i = 0 \n",
    "    phrase = ''\n",
    "    while i < len(string):\n",
    "        if ord(string[i]) >= 65 and ord(string[i]) <=90: #pour les majuscules\n",
    "            if ord(string[i]) + x > 90:\n",
    "                phrase += chr((64 + ord(string[i]) + x - 90))\n",
    "            else: \n",
    "                phrase += chr(ord(string[i])+  x )\n",
    "\n",
    "        elif ord(string[i]) >= 97 and ord(string[i]) <=122: #pour les minuscules\n",
    "            if ord(string[i]) + x > 122:\n",
    "                phrase += chr((96 + ord(string[i]) + x - 122))\n",
    "            else: \n",
    "                phrase += chr(ord(string[i])+  x )\n",
    "        \n",
    "        else: phrase += string[i] #tout ce qui n'est ni majuscule ni minuscule\n",
    "            \n",
    "        i += 1\n",
    "        \n",
    "    print(phrase)\n",
    "\n",
    "caesar_cipher(\"Hello, Goodbye !\", 3)"
   ]
  },
  {
   "cell_type": "markdown",
   "id": "6be1e6fa",
   "metadata": {},
   "source": [
    "## Jean-Michel Trader"
   ]
  },
  {
   "cell_type": "code",
   "execution_count": 25,
   "id": "8bbe0c00",
   "metadata": {},
   "outputs": [
    {
     "name": "stdout",
     "output_type": "stream",
     "text": [
      "Le profit sera de 120\n",
      "Voici les jours où il faudra acheter et vendre : [2, 6]\n"
     ]
    }
   ],
   "source": [
    "def Jean_Michel_Trader(arr):\n",
    "    benef_max = 0\n",
    "    i = 0\n",
    "    index_achat = 0\n",
    "    index_vente = 0\n",
    "    while i < len(arr):\n",
    "        y = i + 1\n",
    "        while y < len(arr):\n",
    "            if benef_max < arr[y] - arr[i]:\n",
    "                benef_max = arr[y] - arr[i] \n",
    "                index_achat = i\n",
    "                index_vente = y\n",
    "            y += 1\n",
    "        i += 1      \n",
    "    print(\"Le profit sera de\", benef_max)\n",
    "    print (\"Voici les jours où il faudra acheter et vendre :\", [index_achat, index_vente])\n",
    "\n",
    "a = [-4, 20.7, -100, 9, 15, 8, 20, 1, 10]\n",
    "\n",
    "Jean_Michel_Trader(a)"
   ]
  },
  {
   "cell_type": "markdown",
   "id": "2ba6f996",
   "metadata": {},
   "source": [
    "## Compter les mots"
   ]
  },
  {
   "cell_type": "code",
   "execution_count": 41,
   "id": "32931661",
   "metadata": {},
   "outputs": [
    {
     "name": "stdout",
     "output_type": "stream",
     "text": [
      "down : 1\n",
      "going : 1\n",
      "howdy : 1\n",
      "it : 1\n",
      "partner : 1\n",
      "sit : 1\n"
     ]
    }
   ],
   "source": [
    "sentence = \"Howdy partner, sit down! How's it going ?\"\n",
    "\n",
    "reference1 = [\"below\", \"down\", \"go\", \"going\", \"horn\", \"how\", \"howdy\", \"it\", \"i\", \"low\", \"own\", \"part\", \"partner\", \"sit\"]\n",
    "\n",
    "d1 = dict()\n",
    "\n",
    "def word_counter(sentence, reference1):\n",
    "    sentence = sentence.lower()\n",
    "    sentence = sentence.translate(line.maketrans('', '', string.punctuation))\n",
    "    words = sentence.split()\n",
    "    \n",
    "    for word in words:\n",
    "        if word in d1:\n",
    "            d1[word] += 1\n",
    "        else:\n",
    "            d1[word] = 1\n",
    "    for key in reference1:\n",
    "        if key in words:\n",
    "            print(key, ':', d1[key])\n",
    "        else:\n",
    "            continue\n",
    "        \n",
    "word_counter(sentence, reference1)"
   ]
  },
  {
   "cell_type": "code",
   "execution_count": 34,
   "id": "a88a9cdc",
   "metadata": {},
   "outputs": [
    {
     "name": "stdout",
     "output_type": "stream",
     "text": [
      "the : 27643\n",
      "of : 18173\n",
      "and : 26728\n",
      "to : 19198\n",
      "a : 14613\n",
      "in : 10967\n",
      "for : 8244\n",
      "is : 9598\n",
      "on : 3051\n",
      "that : 11121\n",
      "by : 4412\n",
      "this : 6847\n",
      "with : 7996\n",
      "i : 20681\n",
      "you : 13649\n",
      "it : 7690\n",
      "not : 8725\n",
      "or : 3123\n",
      "be : 7090\n",
      "are : 3851\n"
     ]
    }
   ],
   "source": [
    "import string\n",
    "\n",
    "text = open(\"shakespeare.txt\")\n",
    "\n",
    "reference2 = [\"the\", \"of\", \"and\", \"to\", \"a\", \"in\", \"for\", \"is\", \"on\", \"that\", \"by\", \"this\", \"with\", \"i\", \"you\", \"it\", \"not\", \"or\", \"be\", \"are\"]\n",
    "\n",
    "# Create an empty dictionary\n",
    "d2 = dict()\n",
    " \n",
    "# Loop through each line of the file\n",
    "for line in text:\n",
    "    # Remove the leading spaces and newline character\n",
    "    line = line.strip()\n",
    " \n",
    "    # Convert the characters in line to lowercase to avoid case mismatch\n",
    "    line = line.lower()\n",
    " \n",
    "    # Remove the punctuation marks from the line\n",
    "    line = line.translate(line.maketrans('', '', string.punctuation))\n",
    "\n",
    "    # Split the line into words\n",
    "    words = line.split()\n",
    "\n",
    "    # Iterate over each word in line\n",
    "    for word in words:\n",
    "        # Check if the word is already in dictionary\n",
    "        if word in d2:\n",
    "            # Increment count of word by 1\n",
    "            d2[word] += 1\n",
    "        else:\n",
    "            # Add the word to dictionary with count 1\n",
    "            d2[word] = 1\n",
    " \n",
    "#Print the contents of dictionary\n",
    "for key in reference2:\n",
    "    print(key, ':', d2[key])"
   ]
  }
 ],
 "metadata": {
  "kernelspec": {
   "display_name": "Python 3 (ipykernel)",
   "language": "python",
   "name": "python3"
  },
  "language_info": {
   "codemirror_mode": {
    "name": "ipython",
    "version": 3
   },
   "file_extension": ".py",
   "mimetype": "text/x-python",
   "name": "python",
   "nbconvert_exporter": "python",
   "pygments_lexer": "ipython3",
   "version": "3.9.12"
  }
 },
 "nbformat": 4,
 "nbformat_minor": 5
}
